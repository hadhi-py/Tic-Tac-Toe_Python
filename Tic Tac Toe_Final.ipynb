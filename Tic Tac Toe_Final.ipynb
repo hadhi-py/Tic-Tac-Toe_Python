{
 "cells": [
  {
   "cell_type": "code",
   "execution_count": 1,
   "metadata": {},
   "outputs": [],
   "source": [
    "board = [' ',' ',' ',' ',' ',' ',' ',' ',' ']\n",
    "\n",
    "from IPython.display import clear_output\n",
    "def display_board(board):\n",
    "    \n",
    "    clear_output()\n",
    "    \n",
    "    print(f\"\\t|\\t|\\t\\n{board[0]:^8}|{board[1]:^7}|{board[2]:^7}\\n\\t|\\t|\\t\")\n",
    "\n",
    "    print('-'*24)\n",
    "\n",
    "    print(f\"\\t|\\t|\\t\\n{board[3]:^8}|{board[4]:^7}|{board[5]:^7}\\n\\t|\\t|\\t\")\n",
    "\n",
    "    print('-'*24)\n",
    "\n",
    "    print(f\"\\t|\\t|\\t\\n{board[6]:^8}|{board[7]:^7}|{board[8]:^7}\\n\\t|\\t|\\t\")"
   ]
  },
  {
   "cell_type": "code",
   "execution_count": 2,
   "metadata": {},
   "outputs": [],
   "source": [
    "def player_input():\n",
    "    \n",
    "    marker = 'null'\n",
    "    \n",
    "    while marker not in ['X','O']:\n",
    "        \n",
    "        marker = input('Player1 : Do you want to be X or O?: ').upper()\n",
    "        \n",
    "        if marker not in ['X','O']:\n",
    "            print(\"Invallid Choice! Choose X or O\")\n",
    "            \n",
    "    return marker"
   ]
  },
  {
   "cell_type": "code",
   "execution_count": 3,
   "metadata": {},
   "outputs": [],
   "source": [
    "def position_choice():\n",
    "    \n",
    "    position = \"wrong\"\n",
    "    \n",
    "    while position not in map(str, range(10)):\n",
    "        \n",
    "        position = input(\"Choose your next postion: (1-9)\\n\")\n",
    "        \n",
    "        if position not in map(str, range(10)):\n",
    "            print(\"Sorry, Invalid Choice! Choose a position (1-9)\")\n",
    "    \n",
    "    return int(position)"
   ]
  },
  {
   "cell_type": "code",
   "execution_count": 4,
   "metadata": {},
   "outputs": [],
   "source": [
    "def place_marker(board,marker,position):\n",
    "    \n",
    "    board[position-1] = marker"
   ]
  },
  {
   "cell_type": "code",
   "execution_count": 5,
   "metadata": {},
   "outputs": [],
   "source": [
    "def win_check(board,mark):\n",
    "    if board[0]==board[1]==board[2]==mark:\n",
    "        return True\n",
    "    elif board[0]==board[3]==board[6]==mark:\n",
    "        return True\n",
    "    elif board[0]==board[4]==board[8]==mark:\n",
    "        return True\n",
    "    elif board[1]==board[4]==board[7]==mark:\n",
    "        return True\n",
    "    elif board[2]==board[5]==board[8]==mark:\n",
    "        return True\n",
    "    elif board[2]==board[4]==board[6]==mark:\n",
    "        return True\n",
    "    elif board[3]==board[4]==board[5]==mark:\n",
    "        return True\n",
    "    elif board[6]==board[7]==board[8]==mark:\n",
    "        return True\n",
    "    else:\n",
    "        return False"
   ]
  },
  {
   "cell_type": "code",
   "execution_count": 6,
   "metadata": {},
   "outputs": [],
   "source": [
    "import random\n",
    "\n",
    "def choose_first():\n",
    "    \n",
    "    return random.randint(1,2)"
   ]
  },
  {
   "cell_type": "code",
   "execution_count": 7,
   "metadata": {},
   "outputs": [],
   "source": [
    "def space_check(board, position):\n",
    "    \n",
    "    return board[position-1] == ' '"
   ]
  },
  {
   "cell_type": "code",
   "execution_count": 8,
   "metadata": {},
   "outputs": [],
   "source": [
    "def full_board_check(board):\n",
    "    return ' ' not in board"
   ]
  },
  {
   "cell_type": "code",
   "execution_count": 9,
   "metadata": {},
   "outputs": [],
   "source": [
    "def player_choice(board):\n",
    "    \n",
    "    pos = 0\n",
    "    \n",
    "    while pos not in [1,2,3,4,5,6,7,8,9] or not space_check(board, pos):\n",
    "        pos = int(input(\"Enter another position (1-9): \"))\n",
    "    \n",
    "    return pos"
   ]
  },
  {
   "cell_type": "code",
   "execution_count": 10,
   "metadata": {},
   "outputs": [],
   "source": [
    "def replay():\n",
    "    \n",
    "    repl='choice'\n",
    "    \n",
    "    while repl not in ['Yes','yes','No','no']:\n",
    "        \n",
    "        repl = input(\"Do you want to play again? Enter Yes or No: \")\n",
    "        \n",
    "        if repl not in ['Yes','yes','No','no']:\n",
    "            print(\"Invalid choice! Enter Yes or No!\")\n",
    "    \n",
    "    return repl in ['Yes','yes']"
   ]
  },
  {
   "cell_type": "code",
   "execution_count": 11,
   "metadata": {},
   "outputs": [],
   "source": [
    "def change_marker(marker):\n",
    "    if marker == 'X':\n",
    "        marker = 'O'\n",
    "    else:\n",
    "        marker = 'X'\n",
    "    \n",
    "    return marker"
   ]
  },
  {
   "cell_type": "code",
   "execution_count": 15,
   "metadata": {},
   "outputs": [
    {
     "name": "stdout",
     "output_type": "stream",
     "text": [
      "\t|\t|\t\n",
      "   X    |   X   |   O   \n",
      "\t|\t|\t\n",
      "------------------------\n",
      "\t|\t|\t\n",
      "   O    |   O   |   X   \n",
      "\t|\t|\t\n",
      "------------------------\n",
      "\t|\t|\t\n",
      "   X    |   O   |   X   \n",
      "\t|\t|\t\n",
      "Board is full! It's a tie!\n",
      "Do you want to play again? Enter Yes or No: No\n"
     ]
    }
   ],
   "source": [
    "from IPython.display import clear_output\n",
    "\n",
    "print('Welcome to Tic Tac Toe!')\n",
    "\n",
    "\n",
    "while True:\n",
    "    \n",
    "    \n",
    "    \n",
    "    \n",
    "    board = [' ',' ',' ',' ',' ',' ',' ',' ',' ']\n",
    "    \n",
    "    \n",
    "    marker = player_input()\n",
    "    first = choose_first()\n",
    "    \n",
    "    print(f\"Player {first} will go first!\")\n",
    "    \n",
    "    if first == 2:\n",
    "            marker = change_marker(marker)\n",
    "    \n",
    "    play_game = input('Are you ready to play? Enter Yes or No.')\n",
    "    \n",
    "    if play_game.lower()[0] == 'y':\n",
    "        game_on = True\n",
    "    else:\n",
    "        game_on = False\n",
    "\n",
    "\n",
    "    while game_on:\n",
    "        #Player 1 Turn\n",
    "        \n",
    "        display_board(board)\n",
    "        position = player_choice(board)\n",
    "        \n",
    "        \n",
    "        \n",
    "        place_marker(board,marker,position)\n",
    "        \n",
    "        \n",
    "        display_board(board)\n",
    "        \n",
    "         \n",
    "        if win_check(board,marker) == True:\n",
    "            print(f\"Congratulations! {marker} has won the game!\")\n",
    "            break\n",
    "        \n",
    "        marker = change_marker(marker)\n",
    "        \n",
    "       \n",
    "            \n",
    "        if full_board_check(board):\n",
    "            print(\"Board is full! It's a tie!\")\n",
    "            break\n",
    "\n",
    "    if not replay():\n",
    "        break"
   ]
  },
  {
   "cell_type": "code",
   "execution_count": null,
   "metadata": {},
   "outputs": [],
   "source": []
  }
 ],
 "metadata": {
  "kernelspec": {
   "display_name": "Python 3",
   "language": "python",
   "name": "python3"
  },
  "language_info": {
   "codemirror_mode": {
    "name": "ipython",
    "version": 3
   },
   "file_extension": ".py",
   "mimetype": "text/x-python",
   "name": "python",
   "nbconvert_exporter": "python",
   "pygments_lexer": "ipython3",
   "version": "3.8.5"
  }
 },
 "nbformat": 4,
 "nbformat_minor": 4
}
